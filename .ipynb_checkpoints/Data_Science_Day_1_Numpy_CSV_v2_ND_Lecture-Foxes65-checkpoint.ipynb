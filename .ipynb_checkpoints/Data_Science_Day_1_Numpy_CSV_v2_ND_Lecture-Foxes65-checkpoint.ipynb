{
 "cells": [
  {
   "cell_type": "markdown",
   "metadata": {},
   "source": [
    "# Data Science Numpy & CSV's"
   ]
  },
  {
   "cell_type": "markdown",
   "metadata": {},
   "source": [
    "## Tasks Today:\n",
    "\n",
    "1) <b>Numpy</b> <br>\n",
    " &nbsp;&nbsp;&nbsp;&nbsp; a) Python List Comparison <br>\n",
    " &nbsp;&nbsp;&nbsp;&nbsp; b) In-Class Exercise #1 <br>\n",
    " &nbsp;&nbsp;&nbsp;&nbsp; c) Importing <br>\n",
    " &nbsp;&nbsp;&nbsp;&nbsp; d) Creating an NDArray <br>\n",
    " &nbsp;&nbsp;&nbsp;&nbsp;&nbsp;&nbsp;&nbsp;&nbsp; - np.array() <br>\n",
    " &nbsp;&nbsp;&nbsp;&nbsp;&nbsp;&nbsp;&nbsp;&nbsp; - np.zeros() <br>\n",
    " &nbsp;&nbsp;&nbsp;&nbsp;&nbsp;&nbsp;&nbsp;&nbsp; - np.ones() <br>\n",
    " &nbsp;&nbsp;&nbsp;&nbsp;&nbsp;&nbsp;&nbsp;&nbsp; - np.arange() <br>\n",
    " &nbsp;&nbsp;&nbsp;&nbsp;&nbsp;&nbsp;&nbsp;&nbsp; - Making Lists into NDArrays <br>\n",
    " &nbsp;&nbsp;&nbsp;&nbsp; e) Performing Calculations on NDArrays <br>\n",
    " &nbsp;&nbsp;&nbsp;&nbsp;&nbsp;&nbsp;&nbsp;&nbsp; - Summation <br>\n",
    " &nbsp;&nbsp;&nbsp;&nbsp;&nbsp;&nbsp;&nbsp;&nbsp; - Difference <br>\n",
    " &nbsp;&nbsp;&nbsp;&nbsp;&nbsp;&nbsp;&nbsp;&nbsp; - Multiplication <br>\n",
    " &nbsp;&nbsp;&nbsp;&nbsp;&nbsp;&nbsp;&nbsp;&nbsp; - Division <br>\n",
    " &nbsp;&nbsp;&nbsp;&nbsp; f) Numpy Subsetting <br>\n",
    " &nbsp;&nbsp;&nbsp;&nbsp; g) Multi-dimensional Arrays <br>\n",
    " &nbsp;&nbsp;&nbsp;&nbsp; h) Indexing NDArrays <br>\n",
    " &nbsp;&nbsp;&nbsp;&nbsp; i) Checking NDArray Type <br>\n",
    " &nbsp;&nbsp;&nbsp;&nbsp; j) Altering NDArray Type <br>\n",
    " &nbsp;&nbsp;&nbsp;&nbsp; k) Checking the Shape <br>\n",
    " &nbsp;&nbsp;&nbsp;&nbsp; l) Altering the Shape <br>\n",
    " &nbsp;&nbsp;&nbsp;&nbsp; m) In-Class Exercise #2 <br>\n",
    " &nbsp;&nbsp;&nbsp;&nbsp; n) Complex Indexing & Assigning <br>\n",
    " &nbsp;&nbsp;&nbsp;&nbsp; o) Elementwise Multplication <br>\n",
    " &nbsp;&nbsp;&nbsp;&nbsp; p) np.where() <br>\n",
    " &nbsp;&nbsp;&nbsp;&nbsp; q) Random Sampling <br>\n",
    "\n",
    "2) <b>Working With CSV's</b> <br>\n",
    " &nbsp;&nbsp;&nbsp;&nbsp; a) Imports <br>\n",
    " &nbsp;&nbsp;&nbsp;&nbsp; b) Reading a CSV <br>\n",
    " &nbsp;&nbsp;&nbsp;&nbsp; c) Loading a CSV's Data <br>\n",
    " &nbsp;&nbsp;&nbsp;&nbsp; d) Checking Number of Records <br>\n",
    " \n",
    "3) <b>Exercises</b> <br>\n",
    " &nbsp;&nbsp;&nbsp;&nbsp; a) #1 - Calculate BMI with NDArrays <br>\n",
    " &nbsp;&nbsp;&nbsp;&nbsp; b) #2 - Find the Average Sum of Marathon Runners <br>\n",
    " &nbsp;&nbsp;&nbsp;&nbsp; c) #3 - Random Matrix Function <br>\n",
    " &nbsp;&nbsp;&nbsp;&nbsp; d) #4 - Comparing Boston Red Sox Hitting Numbers <br>"
   ]
  },
  {
   "cell_type": "markdown",
   "metadata": {},
   "source": [
    "## Numpy <br>\n",
    "\n",
    "<p>NumPy is a library for the Python programming language, adding support for large, multi-dimensional arrays and matrices, along with a large collection of high-level mathematical functions to operate on these arrays.</p>\n",
    "<ul>\n",
    "    <li>Shape = Rows & Columns</li>\n",
    "    <li>Matrix = Entire Array</li>\n",
    "    <li>Vector = Variables to be applied (same vector as the one used in physics)</li>\n",
    "    <li>Array = Similar to lists</li>\n",
    "</ul>"
   ]
  },
  {
   "cell_type": "markdown",
   "metadata": {},
   "source": [
    "#### Python List Comparison"
   ]
  },
  {
   "cell_type": "markdown",
   "metadata": {},
   "source": [
    "<p>Lists are flexible, dynamic python objects that do their job quite well. But they do not support some mathematical operations in an intuitive way. Consider the summation of two lists, $l_1$ and $l_2$</p>"
   ]
  },
  {
   "cell_type": "code",
   "execution_count": 1,
   "metadata": {},
   "outputs": [
    {
     "name": "stdout",
     "output_type": "stream",
     "text": [
      "[1, 2, 3, 4, 5, 6]\n"
     ]
    },
    {
     "ename": "TypeError",
     "evalue": "unsupported operand type(s) for -: 'list' and 'list'",
     "output_type": "error",
     "traceback": [
      "\u001b[1;31m---------------------------------------------------------------------------\u001b[0m",
      "\u001b[1;31mTypeError\u001b[0m                                 Traceback (most recent call last)",
      "\u001b[1;32m<ipython-input-1-75080bc27c03>\u001b[0m in \u001b[0;36m<module>\u001b[1;34m\u001b[0m\n\u001b[0;32m      4\u001b[0m \u001b[1;33m\u001b[0m\u001b[0m\n\u001b[0;32m      5\u001b[0m \u001b[0mprint\u001b[0m\u001b[1;33m(\u001b[0m\u001b[0ml_1\u001b[0m \u001b[1;33m+\u001b[0m \u001b[0ml_2\u001b[0m\u001b[1;33m)\u001b[0m\u001b[1;33m\u001b[0m\u001b[1;33m\u001b[0m\u001b[0m\n\u001b[1;32m----> 6\u001b[1;33m \u001b[0mprint\u001b[0m\u001b[1;33m(\u001b[0m\u001b[0ml_1\u001b[0m \u001b[1;33m-\u001b[0m \u001b[0ml_2\u001b[0m\u001b[1;33m)\u001b[0m\u001b[1;33m\u001b[0m\u001b[1;33m\u001b[0m\u001b[0m\n\u001b[0m\u001b[0;32m      7\u001b[0m \u001b[1;33m\u001b[0m\u001b[0m\n\u001b[0;32m      8\u001b[0m \u001b[1;31m# what if we want l_1 + l_2 = [5, 7, 9]\u001b[0m\u001b[1;33m\u001b[0m\u001b[1;33m\u001b[0m\u001b[1;33m\u001b[0m\u001b[0m\n",
      "\u001b[1;31mTypeError\u001b[0m: unsupported operand type(s) for -: 'list' and 'list'"
     ]
    }
   ],
   "source": [
    "# create two lists and sum both of them together (results may not be what you expect)\n",
    "l_1 = [1,2,3]\n",
    "l_2 = [4,5,6]\n",
    "\n",
    "print(l_1 + l_2)\n",
    "print(l_1 - l_2)\n",
    "\n",
    "# what if we want l_1 + l_2 = [5, 7, 9]\n",
    "# if we want to do that in python, we need to write our own function"
   ]
  },
  {
   "cell_type": "markdown",
   "metadata": {},
   "source": [
    "<p>If we wanted to sum lists elementwise, we could write our own function that does the job entirely within the framework of python</p>"
   ]
  },
  {
   "cell_type": "markdown",
   "metadata": {},
   "source": [
    "#### In-Class Exercise #1 - Write a function that sums the indexes of two lists <br>\n",
    "<p>Ex: [2, 3, 4] + [1, 5, 2] = [3, 8, 6]</p>"
   ]
  },
  {
   "cell_type": "code",
   "execution_count": null,
   "metadata": {},
   "outputs": [],
   "source": [
    "def elesum(l1, l2):\n",
    "    ans = []\n",
    "    for i in range(len(l1)):\n",
    "        ans.append(l1[i]+l2[i])\n",
    "    return ans\n",
    "print(elesum([2,3,4], [1,5,2]))\n",
    "\n",
    "def sumlist(list1,list2):\n",
    "    final = []\n",
    "    i = 0\n",
    "    while i < len(list1):\n",
    "        final.append(list1[i] + list2[i])\n",
    "        i += 1\n",
    "    return final\n",
    "sumlist([2,3,4], [1,5,2])"
   ]
  },
  {
   "cell_type": "markdown",
   "metadata": {},
   "source": [
    "#### Importing"
   ]
  },
  {
   "cell_type": "code",
   "execution_count": null,
   "metadata": {},
   "outputs": [],
   "source": [
    "# always import as np, standard across all of data science\n",
    "# !pip install numpy run this if for whatever reason you didn't have numpy installed\n",
    "import numpy as np # this line is the go-to way to get numpy involved"
   ]
  },
  {
   "cell_type": "markdown",
   "metadata": {},
   "source": [
    "#### Creating an NDArray <br>\n",
    "<p>NumPy is based around a class called the $\\textit{NDArray}$, which is a flexible vector / matrix class that implements the intuitive matrix and vector arithmatic lacking in basic Python. Let's start by creating some NDArrays:</p>"
   ]
  },
  {
   "cell_type": "markdown",
   "metadata": {},
   "source": [
    "###### - np.array()"
   ]
  },
  {
   "cell_type": "code",
   "execution_count": null,
   "metadata": {},
   "outputs": [],
   "source": [
    "arr1 = np.array([2,3,4])\n",
    "arr2 = np.array([1, 5, 2])\n",
    "print( arr1, type(arr1))"
   ]
  },
  {
   "cell_type": "markdown",
   "metadata": {},
   "source": [
    "###### - np.zeros()"
   ]
  },
  {
   "cell_type": "code",
   "execution_count": null,
   "metadata": {},
   "outputs": [],
   "source": [
    "# Shape -- np.zeros() has a parameter of \"shape\" that must be given - gives us an array with the specified shape filled with zeros\n",
    "# the shape tells numpy the number of rows and columns to give to our ndarray\n",
    "arr0 = np.zeros((3,2))\n",
    "arr0"
   ]
  },
  {
   "cell_type": "markdown",
   "metadata": {},
   "source": [
    "###### - np.ones()"
   ]
  },
  {
   "cell_type": "code",
   "execution_count": null,
   "metadata": {},
   "outputs": [],
   "source": [
    "arr_ones = np.ones((3,2), int)\n",
    "arr_ones\n",
    "# notice no dots after the numbers, because we specified the datatype to be integer"
   ]
  },
  {
   "cell_type": "markdown",
   "metadata": {},
   "source": [
    "###### - np.arange()"
   ]
  },
  {
   "cell_type": "code",
   "execution_count": null,
   "metadata": {},
   "outputs": [],
   "source": [
    "arr_1to100 = np.arange(1, 101)\n",
    "arr_1to100"
   ]
  },
  {
   "cell_type": "markdown",
   "metadata": {},
   "source": [
    "###### - Making Lists into NDArrays"
   ]
  },
  {
   "cell_type": "code",
   "execution_count": null,
   "metadata": {},
   "outputs": [],
   "source": [
    "my_list = [14, 24, 100, 1986, 320]\n",
    "arr_list = np.array(my_list)\n",
    "arr_list"
   ]
  },
  {
   "cell_type": "markdown",
   "metadata": {},
   "source": [
    "#### Performing Calculations on NDArrays"
   ]
  },
  {
   "cell_type": "markdown",
   "metadata": {},
   "source": [
    "###### - Summation"
   ]
  },
  {
   "cell_type": "code",
   "execution_count": null,
   "metadata": {
    "scrolled": true
   },
   "outputs": [],
   "source": [
    "my_list = [14, 24, 100, 1986, 320]\n",
    "arr_list = np.array(my_list)\n",
    "arr_list2 = np.array([ 6, 6, 0, 14, 80])\n",
    "\n",
    "sumthem = arr_list + arr_list2\n",
    "sumthem"
   ]
  },
  {
   "cell_type": "markdown",
   "metadata": {},
   "source": [
    "###### - Difference"
   ]
  },
  {
   "cell_type": "code",
   "execution_count": null,
   "metadata": {},
   "outputs": [],
   "source": [
    "# as is the case with normal subtraction, order matters\n",
    "diffthem = arr_list - arr_list2\n",
    "diffthem"
   ]
  },
  {
   "cell_type": "markdown",
   "metadata": {},
   "source": [
    "###### - Multiplication"
   ]
  },
  {
   "cell_type": "code",
   "execution_count": null,
   "metadata": {},
   "outputs": [],
   "source": [
    "multiplythem = arr_list * arr_list2\n",
    "multiplythem"
   ]
  },
  {
   "cell_type": "markdown",
   "metadata": {},
   "source": [
    "###### - Division"
   ]
  },
  {
   "cell_type": "code",
   "execution_count": null,
   "metadata": {},
   "outputs": [],
   "source": [
    "arr_list2 = np.array([ 6, 6, 1, 14, 80])\n",
    "dividethem = arr_list/arr_list2\n",
    "dividethem\n",
    "\n",
    "# don't be like me and divide by zero, that'll give you a warning/break your code"
   ]
  },
  {
   "cell_type": "markdown",
   "metadata": {},
   "source": [
    "#### Modulo"
   ]
  },
  {
   "cell_type": "code",
   "execution_count": null,
   "metadata": {},
   "outputs": [],
   "source": [
    "\n",
    "result_mod = arr_list % arr_list2\n",
    "result_mod"
   ]
  },
  {
   "cell_type": "markdown",
   "metadata": {},
   "source": [
    "#### Floor Division"
   ]
  },
  {
   "cell_type": "code",
   "execution_count": null,
   "metadata": {},
   "outputs": [],
   "source": [
    "result_floordiv = arr_list // arr_list2\n",
    "result_floordiv"
   ]
  },
  {
   "cell_type": "markdown",
   "metadata": {},
   "source": [
    "#### Numpy Subsetting"
   ]
  },
  {
   "cell_type": "code",
   "execution_count": null,
   "metadata": {},
   "outputs": [],
   "source": [
    "# result3 <= 800\n",
    "# Where is arr_list evenly divisible by arr_list2?\n",
    "# Answer:\n",
    "print(result_mod == 0)\n",
    "\n",
    "# I was hoping this would check the first letter of each string in the array\n",
    "# But it doesn't work, its just looking at if the entire zeroth index of the array does equal 'B'\n",
    "# test_ndStrings = np.array(['Bob','Mark','Angelica','Barb'])\n",
    "# print(test_ndStrings[test_ndStrings[0] == 'B'])\n",
    "\n",
    "arr1 = np.array([0, 1, 4, 2, 6, 3, 1])\n",
    "arr2 = np.array([-5, -1, -4, 2, 6, -3, 1])\n",
    "# conditioal check, returns true or false\n",
    "print(arr2 < 2)\n",
    "print(arr1 >= 2)\n",
    "\n",
    "# conditional check, that returns the elements that meet the given condition\n",
    "print(arr2[arr2 < 2])\n",
    "print(arr1[arr1 >= 2])\n",
    "# also see np.where() below"
   ]
  },
  {
   "cell_type": "markdown",
   "metadata": {},
   "source": [
    "#### Multi-dimensional Arrays <br>\n",
    "<p>NumPy seamlessly supports multidimensional arrays and matrices of arbitrary dimension without nesting NDArrays. NDArrays themselves are flexible and extensible and may be defined with such dimensions, with a rich API of common functions to facilitate their use. Let's start by building a two dimensional 3x3 matrix by conversion from a nested group of core python lists $M = [l_0, l_1, l_2]$:</p>"
   ]
  },
  {
   "cell_type": "code",
   "execution_count": null,
   "metadata": {},
   "outputs": [],
   "source": [
    "aList = [0,1,2]\n",
    "bList = [3,4,5]\n",
    "cList = [6,7,8]\n",
    "\n",
    "# first step: convert lists into a Matrix\n",
    "M = [aList, bList, cList]\n",
    "M\n",
    "\n",
    "# second step: place Matrix inside NDArray\n",
    "ND_M = np.array(M)\n",
    "ND_M"
   ]
  },
  {
   "cell_type": "markdown",
   "metadata": {},
   "source": [
    "#### Indexing NDArrays <br>\n",
    "<p> Similar to lists within lists; however, the syntax looks more like C programming language.... It is [1, 2] to access the second row, third element.</p>"
   ]
  },
  {
   "cell_type": "code",
   "execution_count": null,
   "metadata": {},
   "outputs": [],
   "source": [
    "# access the middle value in our 3x3 NDArray (its the four)\n",
    "print(ND_M[1,1]) # conventional NumPy way\n",
    "print(ND_M[1]) # normal python way if we want to grab all middle row\n",
    "\n",
    "# access the last value\n",
    "ND_M[2,2]"
   ]
  },
  {
   "cell_type": "code",
   "execution_count": null,
   "metadata": {},
   "outputs": [],
   "source": [
    "# Accessing an entire column - slightly more complicated\n",
    "# We actually need to create a copy/new NDArray where the column we're looking for is the new only row in our copy array\n",
    "middle_column = ND_M[:,1] # its kind of just weird slicing syntax\n",
    "middle_column"
   ]
  },
  {
   "cell_type": "markdown",
   "metadata": {},
   "source": [
    "#### Assigning Values in NDArrays"
   ]
  },
  {
   "cell_type": "code",
   "execution_count": null,
   "metadata": {},
   "outputs": [],
   "source": [
    "# lets change the value at the middle index aka [1,1]\n",
    "ND_M[1,1] = 1.23\n",
    "ND_M\n",
    "\n",
    "# notice that we get a 1 instead of 1.23 - this is due to the NDarray being of integet datatype\n",
    "# unlike python lists, NDArrays can only hold one type of data at a time"
   ]
  },
  {
   "cell_type": "markdown",
   "metadata": {},
   "source": [
    "<p>Notice above how we ended up with a 1 in the target element's place. This is a data type issue. The .dtype() method is supported by all NDArrays, as well as the .astype() method for casting between data types:</p>"
   ]
  },
  {
   "cell_type": "markdown",
   "metadata": {},
   "source": [
    "#### Checking NDArray Type"
   ]
  },
  {
   "cell_type": "code",
   "execution_count": null,
   "metadata": {},
   "outputs": [],
   "source": [
    "# usind the .dtype attribute\n",
    "ND_M.dtype"
   ]
  },
  {
   "cell_type": "markdown",
   "metadata": {},
   "source": [
    "#### Altering NDArray Type"
   ]
  },
  {
   "cell_type": "code",
   "execution_count": null,
   "metadata": {},
   "outputs": [],
   "source": [
    "# using the astype method - numpy has its own datatypes as well\n",
    "changed = ND_M.astype(np.float32)\n",
    "\n",
    "# note that this does not modify the original ND_M, it creates a copy as the new type\n",
    "print(changed)\n",
    "changed.dtype"
   ]
  },
  {
   "cell_type": "code",
   "execution_count": null,
   "metadata": {},
   "outputs": [],
   "source": [
    "# Checking the Shape of the ND_M Numpy Array - (number of rows, number columns)\n",
    "# Using the attribute .shape\n",
    "ND_M.shape"
   ]
  },
  {
   "cell_type": "markdown",
   "metadata": {},
   "source": [
    "#### Checking the Shape <br>\n",
    "<p>The behavior and properties of an NDArray are often sensitively dependent on the $\\textit{shape}$ of the NDArray itself. The shape of an array can be found by calling the .shape method, which will return a tuple containing the array's dimensions:</p>"
   ]
  },
  {
   "cell_type": "code",
   "execution_count": null,
   "metadata": {},
   "outputs": [],
   "source": [
    " # shape is always rows x columns\n",
    "# Checking the Shape of the ND_M Numpy Array\n",
    "# Using the method .shape\n",
    "\n",
    "ND_M.shape # see above\n",
    "\n",
    "changed = ND_M.astype(np.float32)\n",
    "print(changed.shape)\n",
    "\n",
    "# .shape attribute comes back as a tuple\n",
    "print(type(changed.shape))"
   ]
  },
  {
   "cell_type": "markdown",
   "metadata": {},
   "source": [
    "#### Altering the Shape <br>\n",
    "<p>As long as the number of elements remains fixed, we can reshape NDArrays at will:</p>"
   ]
  },
  {
   "cell_type": "code",
   "execution_count": null,
   "metadata": {},
   "outputs": [],
   "source": [
    "# Change the shape of the numpy array\n",
    "# Using the method .reshape()\n",
    "\n",
    "# The reshape should be a multiple of the original shape\n",
    "# Meaning we can have a shape of (1,9) or (9,1) or (3,3)\n",
    "\n",
    "# (9,1) == 9 rows , 1 column\n",
    "\n",
    "# again it should be noted that reshaping returns a modified copy of the NDArray rather than the original NDArray itself\n",
    "\n",
    "reshaped_changed = changed.reshape((9, 1))\n",
    "print(f'Unmodified original:\\n{changed}')\n",
    "print(f'Reshaped new array:\\n{reshaped_changed}')"
   ]
  },
  {
   "cell_type": "code",
   "execution_count": null,
   "metadata": {},
   "outputs": [],
   "source": [
    "# keep in mind that the shape numbers do matter, (9, 1) is different than (1, 9)\n",
    "reshaped9x1 = changed.reshape((9,1))\n",
    "reshaped1x9 = changed.reshape((1,9))\n",
    "print(f'9x1:\\n{reshaped9x1}')\n",
    "print(f'1x9:\\n{reshaped1x9}')\n",
    "\n",
    "# accessing the 5:\n",
    "print('Acessing the 5 in either:')\n",
    "print(reshaped9x1[5,0])\n",
    "print(reshaped1x9[0,5])"
   ]
  },
  {
   "cell_type": "markdown",
   "metadata": {},
   "source": [
    "#### In-Class Exercise #2 - Create a matrix of range 0 up to 16 and reshape it into a 4x4 matrice"
   ]
  },
  {
   "cell_type": "code",
   "execution_count": 3,
   "metadata": {},
   "outputs": [
    {
     "name": "stderr",
     "output_type": "stream",
     "text": [
      "C:\\Users\\todds\\anaconda3.1\\lib\\site-packages\\numpy\\core\\getlimits.py:172: RuntimeWarning: divide by zero encountered in exp2\n",
      "  eps=exp2(ld(-112)),\n",
      "C:\\Users\\todds\\anaconda3.1\\lib\\site-packages\\numpy\\core\\getlimits.py:51: RuntimeWarning: divide by zero encountered in log10\n",
      "  self.precision = int(-log10(self.eps))\n",
      "C:\\Users\\todds\\anaconda3.1\\lib\\site-packages\\numpy\\core\\getlimits.py:52: RuntimeWarning: divide by zero encountered in power\n",
      "  self.resolution = float_to_float(float_conv(10) ** (-self.precision))\n",
      "C:\\Users\\todds\\anaconda3.1\\lib\\site-packages\\numpy\\core\\getlimits.py:184: RuntimeWarning: divide by zero encountered in exp2\n",
      "  epsneg_f80 = exp2(ld(-64))\n",
      "C:\\Users\\todds\\anaconda3.1\\lib\\site-packages\\numpy\\core\\getlimits.py:185: RuntimeWarning: divide by zero encountered in exp2\n",
      "  tiny_f80 = exp2(ld(-16382))\n",
      "C:\\Users\\todds\\anaconda3.1\\lib\\site-packages\\numpy\\core\\getlimits.py:199: RuntimeWarning: divide by zero encountered in exp2\n",
      "  eps=exp2(ld(-63)),\n",
      "C:\\Users\\todds\\anaconda3.1\\lib\\site-packages\\numpy\\core\\getlimits.py:211: RuntimeWarning: divide by zero encountered in nextafter\n",
      "  huge_dd = (umath.nextafter(ld(inf), ld(0))\n",
      "C:\\Users\\todds\\anaconda3.1\\lib\\site-packages\\numpy\\core\\getlimits.py:224: RuntimeWarning: divide by zero encountered in exp2\n",
      "  eps=exp2(ld(-105)),\n",
      "C:\\Users\\todds\\anaconda3.1\\lib\\site-packages\\numpy\\core\\getlimits.py:225: RuntimeWarning: divide by zero encountered in exp2\n",
      "  epsneg= exp2(ld(-106)),\n",
      "C:\\Users\\todds\\anaconda3.1\\lib\\site-packages\\numpy\\core\\getlimits.py:227: RuntimeWarning: divide by zero encountered in exp2\n",
      "  tiny=exp2(ld(-1022)))\n",
      "C:\\Users\\todds\\anaconda3.1\\lib\\site-packages\\numpy\\__init__.py:247: RuntimeWarning: divide by zero encountered in subtract\n",
      "  if not abs(x.dot(x) - 2.0) < 1e-5:\n",
      "C:\\Users\\todds\\anaconda3.1\\lib\\site-packages\\numpy\\__init__.py:247: RuntimeWarning: divide by zero encountered in absolute\n",
      "  if not abs(x.dot(x) - 2.0) < 1e-5:\n",
      "C:\\Users\\todds\\anaconda3.1\\lib\\site-packages\\numpy\\core\\fromnumeric.py:87: RuntimeWarning: divide by zero encountered in reduce\n",
      "  return ufunc.reduce(obj, axis, dtype, out, **passkwargs)\n"
     ]
    },
    {
     "data": {
      "text/plain": [
       "array([[ 0,  1,  2,  3],\n",
       "       [ 4,  5,  6,  7],\n",
       "       [ 8,  9, 10, 11],\n",
       "       [12, 13, 14, 15]])"
      ]
     },
     "execution_count": 3,
     "metadata": {},
     "output_type": "execute_result"
    }
   ],
   "source": [
    "\n",
    "\"\"\"\n",
    "OUTPUT\n",
    "    array([[ 0,  1,  2,  3],\n",
    "       [ 4,  5,  6,  7],\n",
    "       [ 8,  9, 10, 11],\n",
    "       [12, 13, 14, 15]])\n",
    "\"\"\"\n",
    "# using python range() and np.array() with .reshape()\n",
    "x = np.array(range(0,16)).reshape((4,4))\n",
    "x\n",
    "\n",
    "# use np.arange() with .reshape()\n",
    "y = np.arange(0,16).reshape(4,4)\n",
    "y"
   ]
  },
  {
   "cell_type": "markdown",
   "metadata": {},
   "source": [
    "#### Complex Indexing & Assinging"
   ]
  },
  {
   "cell_type": "code",
   "execution_count": null,
   "metadata": {},
   "outputs": [],
   "source": [
    "# What complex indexing and assignment is in an NDArray \n",
    " # is similar to list slicing syntax and multiple index assignment in python lists\n",
    "    \n",
    "print('Setting up matrix')\n",
    "print('Before assignment: all zeros:')\n",
    "M = np.zeros((6,6))\n",
    "print(M)\n",
    "print('\\n')\n",
    "    \n",
    "# Set every first element in each row to 1\n",
    "M[:,0] = 1\n",
    "print('After assignment of 1 to first column:')\n",
    "print(M)\n",
    "print('\\n')\n",
    "\n",
    "# Set all elements in axis 3 to 5 (Excluding 5) to be equal to the number 5\n",
    "# assign in M row index 2 up to not including row index 5,  starting column : up to and including ending column\n",
    "M[2:5, :] = 5\n",
    "print('After assigning 5 to rows 3-5 not including 5:')\n",
    "print(M)\n",
    "print('\\n')\n",
    "\n",
    "# Set all elements in row 3 to 5 (Excluding 5) to be equal to the number 5, except in the first and last columns\n",
    "# assign in M row index 2 up to not including row index 5,  starting column index 1 : up to not including column index 5\n",
    "M[2:5, 1:5] = 2\n",
    "print('After assigning rows 3-5 not including first and last column:')\n",
    "print(M)\n",
    "print('\\n')\n",
    "\n",
    "# reset the matrix back to 0\n",
    "M = M*0\n",
    "print('After reset:')\n",
    "print(M)\n",
    "print('\\n')\n",
    "\n",
    "# Set the second and third columns to a number == 2\n",
    "M[:,1:3] = 2\n",
    "print('After assigning 2 to second and third columns:')\n",
    "print(M)\n",
    "print('\\n')\n",
    "\n",
    "# Creating a vector in numpy\n",
    "v = np.arange(6)\n",
    "print(v)\n",
    "\n",
    "# Reset the Matrix to 0\n",
    "M *= 0\n",
    "print('After reset:')\n",
    "print(M)\n",
    "print('\\n')\n",
    "\n",
    "# Set the first row to that range of vector numbers we just created\n",
    "M[0, :] = v\n",
    "print('After assigning vector v to row 0 of matrix M:')\n",
    "print(M)\n",
    "print('\\n')\n",
    "\n",
    "# Create a 4x4 matrix and assign to the 3-6 rows/columns\n",
    "fourbyfour = np.array(range(0,16)).reshape((4,4))\n",
    "print(fourbyfour)\n",
    "M[2:, 2:] = fourbyfour\n",
    "print('After assigning 4x4 matrix to the 3rd-6th rows/columns:')\n",
    "print(M)\n",
    "\n",
    "#################\n",
    "# M[rows,columns]\n",
    "#################"
   ]
  },
  {
   "cell_type": "markdown",
   "metadata": {},
   "source": [
    "#### Elementwise Multiplication"
   ]
  },
  {
   "cell_type": "markdown",
   "metadata": {},
   "source": [
    "\n",
    "<p>As long as the shapes of NDArrays are 'compatible', they can be multiplied elementwise, broadcasted, used in inner products, and much much more. 'Compatible' in this context can mean compatible in the linear algebraic sense, i.e. for inner products and other matrix multiplication, or simply sharing a dimension in such a manner that broadcasting 'makes sense'. Here are some examples of this:</p>"
   ]
  },
  {
   "cell_type": "code",
   "execution_count": null,
   "metadata": {
    "scrolled": false
   },
   "outputs": [],
   "source": [
    "# fixing assignment of M\n",
    "M[2:, 2:] = fourbyfour\n",
    "\n",
    "# Initialize a vector of range 6, then reset Matrix to zero and run vector multiplication on the matrix\n",
    "v = np.arange(6)\n",
    "print(v)\n",
    "\n",
    "print(M)\n",
    "print('\\n')\n",
    "\n",
    "M = M*v\n",
    "\n",
    "print('After multiplying M by the vector v shape (1,6):')\n",
    "print(M)\n",
    "print('\\n')\n",
    "\n",
    "#reset M to prior setup again\n",
    "M[2:, 2:] = fourbyfour\n",
    "\n",
    "# multiply M by reshaped V\n",
    "\n",
    "v=v.reshape(6, 1)\n",
    "\n",
    "M = M*v\n",
    "print(v)\n",
    "print('After multiplying M by the vector v shape(6,1):')\n",
    "print(M)\n",
    "\n",
    "\n",
    "# Reset the Matrix to 0\n"
   ]
  },
  {
   "cell_type": "markdown",
   "metadata": {},
   "source": [
    "#### np.where() <br>\n",
    "<p>If statement within NDArrays that allows you to run conditionals on the entire array</p>"
   ]
  },
  {
   "cell_type": "code",
   "execution_count": null,
   "metadata": {},
   "outputs": [],
   "source": [
    "new_array = np.array(range(10,401,10)).reshape(4,10)\n",
    "print(new_array)\n",
    "print('\\n')\n",
    "print('Get locations of numbers divisible by 20')\n",
    "print(np.where(new_array%20==0))\n",
    "print('\\n')\n",
    "\n",
    "print('Get actual numbers divisible by 20 back into a 4 row matrix')\n",
    "print(new_array[np.where(new_array%20==0)].reshape(4, 5))\n",
    "print('\\n')\n",
    "\n",
    "# Transform Data based on boolean mask == True\n",
    "new_array[np.where(new_array%100==0)] = 0\n",
    "print(new_array)"
   ]
  },
  {
   "cell_type": "markdown",
   "metadata": {},
   "source": [
    "#### Random Sampling <br>\n",
    "<p>NumPy provides machinery to work with random numbers - something often needed in a broad spectrum of data science applications.</p>"
   ]
  },
  {
   "cell_type": "code",
   "execution_count": null,
   "metadata": {},
   "outputs": [],
   "source": [
    "# np.random.uniform()\n",
    "\n",
    "# A single call generates a single random number between 0 and 1\n",
    "\n",
    "print('Here is a random number: %s' % np.random.uniform())\n",
    "\n",
    "# You can also pass some parameters or bounds\n",
    "\n",
    "print('\\n')\n",
    "print('Here is a random number between 0 and 1 Million: %s' % np.random.uniform(0, 1e6))\n",
    "\n",
    "# You can also generate a bunch of random numbers all at once\n",
    "\n",
    "\n",
    "print('\\n')\n",
    "print('Here are 5 random numbers between 0 and 10: %s' % np.random.uniform(0, 10, 5))\n",
    "\n",
    "# Even matrices with shapes as a parameter\n",
    "\n",
    "print('\\n')\n",
    "print('Here is a 3x3 matrix with numbers between 0 and 10: \\n %s' % np.random.uniform(0, 10, (3, 3)))\n",
    "\n",
    "# Can take the result and convert it to a different datatype if you want\n",
    "print('\\n')\n",
    "print('Here is a 3x3 matrix with integers between 0 and 10: \\n %s' % np.random.uniform(0, 11, (3, 3)).astype(np.int32))\n",
    "\n",
    "# Can use different NumPy random generator for different datatypes\n",
    "print('\\n')\n",
    "print('Heres a random integer between 1 and 100: %s' % np.random.randint(1, 101))"
   ]
  },
  {
   "cell_type": "markdown",
   "metadata": {},
   "source": [
    "## Working With CSV's"
   ]
  },
  {
   "cell_type": "markdown",
   "metadata": {},
   "source": [
    "#### Imports"
   ]
  },
  {
   "cell_type": "code",
   "execution_count": null,
   "metadata": {},
   "outputs": [],
   "source": [
    "import csv\n",
    "import numpy as np\n",
    "from datetime import datetime\n",
    "import sys\n",
    "!conda install -yess -prefix "
   ]
  },
  {
   "cell_type": "markdown",
   "metadata": {},
   "source": [
    "#### Reading a CSV"
   ]
  },
  {
   "cell_type": "code",
   "execution_count": null,
   "metadata": {},
   "outputs": [],
   "source": [
    "# Loading the CSV into a python list of lists\n",
    "\n",
    "# Creating Function to open and read CSV data\n",
    "def open_csv(filename, delimiter=','):\n",
    "    # define an empty list in which to store our data\n",
    "    data = []\n",
    "    \n",
    "    with open(filename, encoding = 'utf-8') as mData:\n",
    "        # using the csv reader method to create a python list\n",
    "        info = csv.reader(mData, delimiter = delimiter)\n",
    "        \n",
    "        # loop over whats in the csv.reader and add to the data list\n",
    "        for row in info:\n",
    "            data.append(row)\n",
    "    \n",
    "    return data\n",
    "\n",
    "csv_data = open_csv('files/boston_marathon2017_edited.csv')\n",
    "\n",
    "\n",
    "# our csv data is now in the form of nested python lists\n",
    "# here's the first row of data:\n",
    "print(csv_data[-1])"
   ]
  },
  {
   "cell_type": "markdown",
   "metadata": {},
   "source": [
    "#### Loading a CSV's Data "
   ]
  },
  {
   "cell_type": "code",
   "execution_count": null,
   "metadata": {},
   "outputs": [],
   "source": [
    "FIELDS = ['Rk', 'Pos', 'Name', 'Age', 'G', 'PA', 'AB', 'R', 'H', '2B', '3B', 'HR', 'RBI', 'SB', 'CS', \n",
    "          'BB', 'SO', 'BA', 'OBP', 'SLG', 'OPS', 'OPS+', 'TB', 'GDP', 'HBP', 'SH', 'SF', 'IBB']\n",
    "\n",
    "# i = integer, f = float, |S25 = string with 25 characters\n",
    "DATATYPES = [('rk', 'i'), ('pos', '|S25'), ('name', '|S25'), ('age', 'i'), ('g', 'i'), ('pa', 'i'), ('ab', 'i'),\n",
    "                ('r', 'i'), ('h', 'i'), ('2b', 'i'), ('3b', 'i'), ('hr', 'i'), ('rbi', 'i'), ('sb', 'i'), ('cs', 'i'),\n",
    "                ('bb', 'i'), ('so', 'i'), ('ba', 'f'), ('obp', 'f'), ('slg', 'f'), ('ops', 'f'), ('opsp', 'i'),\n",
    "                ('tb', 'i'), ('gdp', 'i'), ('hbp', 'i'), ('sh', 'i'), ('sf', 'i'), ('ibb', 'i')]\n",
    "\n",
    "# instead of loading csv normally, let's load it into a numpy array to calculate results on\n",
    "def load_data(filename, d=','):\n",
    "    data = np.genfromtxt(filename, delimiter=d, skip_header=1, usecols = np.arange(0,28), invalid_raise=False, names = FIELDS, dtype = DATATYPES)\n",
    "    return data\n",
    "\n",
    "redsox2017 = load_data('files/redsox_2017_hitting.txt')\n",
    "\n",
    "# if I wanted to get just the names -> treat it like a python dictionary\n",
    "# you get back an NDArray of all the values from that column\n",
    "names = redsox2017['Name']\n",
    "print(names)\n",
    "\n",
    "# a little trick to print each row separated onto newlines\n",
    "print('\\n', redsox2017)\n",
    "\n",
    "print('\\n')\n",
    "# Find the average batting average:\n",
    "from statistics import mean\n",
    "batting_averages = redsox2017['BA']\n",
    "print(f'Average batting average in 2017: {mean(batting_averages):.3f}')\n",
    "\n",
    "total_homeruns = sum(redsox2017['HR'])\n",
    "print(f'Total home runs in 2017: {total_homeruns}')"
   ]
  },
  {
   "cell_type": "markdown",
   "metadata": {},
   "source": [
    "#### Summing the top 5 hitters for HR's"
   ]
  },
  {
   "cell_type": "code",
   "execution_count": null,
   "metadata": {},
   "outputs": [],
   "source": [
    "# find the top 5 hr hitters\n",
    "\n",
    "# Step 1: Get all HR data into a variable\n",
    "# Step 2: Get all Player Names\n",
    "# Step 3: Create new list for new_names (empty to start)\n",
    "# Step 4: Decode the player names into regular strings\n",
    "# Step 5: Grab all data and place inside of a zipped list\n",
    "# Step 6: Sort values based on HR data\n",
    "\n",
    "# Step 1\n",
    "hrs = redsox2017['HR']\n",
    "hrs\n",
    "# Step 2\n",
    "names = redsox2017['Name']\n",
    "names\n",
    "# Step 3\n",
    "new_names = []\n",
    "\n",
    "# Step 4\n",
    "for name in names:\n",
    "    new_names.append(name.decode('utf-8'))\n",
    "new_names\n",
    "\n",
    "# Step 5\n",
    "zipped_values = list(zip(new_names, hrs))\n",
    "print(zipped_values)\n",
    "\n",
    "# Step 6\n",
    "top5 = sorted(zipped_values, key = lambda x: x[1], reverse=True)[0:6]\n",
    "top5"
   ]
  },
  {
   "cell_type": "markdown",
   "metadata": {
    "collapsed": true
   },
   "source": [
    "# Exercises To Complete.... <br>\n",
    "<p>Given in separate file after completion of this file</p>"
   ]
  }
 ],
 "metadata": {
  "kernelspec": {
   "display_name": "Python 3",
   "language": "python",
   "name": "python3"
  },
  "language_info": {
   "codemirror_mode": {
    "name": "ipython",
    "version": 3
   },
   "file_extension": ".py",
   "mimetype": "text/x-python",
   "name": "python",
   "nbconvert_exporter": "python",
   "pygments_lexer": "ipython3",
   "version": "3.8.8"
  }
 },
 "nbformat": 4,
 "nbformat_minor": 2
}
